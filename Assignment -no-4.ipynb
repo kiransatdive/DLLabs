{
 "cells": [
  {
   "cell_type": "code",
   "execution_count": 1,
   "id": "830e6796",
   "metadata": {},
   "outputs": [
    {
     "ename": "ModuleNotFoundError",
     "evalue": "No module named 'tensorflow'",
     "output_type": "error",
     "traceback": [
      "\u001b[1;31m---------------------------------------------------------------------------\u001b[0m",
      "\u001b[1;31mModuleNotFoundError\u001b[0m                       Traceback (most recent call last)",
      "Input \u001b[1;32mIn [1]\u001b[0m, in \u001b[0;36m<cell line: 5>\u001b[1;34m()\u001b[0m\n\u001b[0;32m      3\u001b[0m \u001b[38;5;28;01mimport\u001b[39;00m \u001b[38;5;21;01mpickle\u001b[39;00m\n\u001b[0;32m      4\u001b[0m \u001b[38;5;28;01mimport\u001b[39;00m \u001b[38;5;21;01mmatplotlib\u001b[39;00m\u001b[38;5;21;01m.\u001b[39;00m\u001b[38;5;21;01mpyplot\u001b[39;00m \u001b[38;5;28;01mas\u001b[39;00m \u001b[38;5;21;01mplt\u001b[39;00m\n\u001b[1;32m----> 5\u001b[0m \u001b[38;5;28;01mimport\u001b[39;00m \u001b[38;5;21;01mtensorflow\u001b[39;00m \u001b[38;5;28;01mas\u001b[39;00m \u001b[38;5;21;01mtf\u001b[39;00m\n\u001b[0;32m      6\u001b[0m \u001b[38;5;28;01mimport\u001b[39;00m \u001b[38;5;21;01mseaborn\u001b[39;00m \u001b[38;5;28;01mas\u001b[39;00m \u001b[38;5;21;01msns\u001b[39;00m\n\u001b[0;32m      7\u001b[0m \u001b[38;5;28;01mfrom\u001b[39;00m \u001b[38;5;21;01msklearn\u001b[39;00m\u001b[38;5;21;01m.\u001b[39;00m\u001b[38;5;21;01mmodel_selection\u001b[39;00m \u001b[38;5;28;01mimport\u001b[39;00m train_test_split\n",
      "\u001b[1;31mModuleNotFoundError\u001b[0m: No module named 'tensorflow'"
     ]
    }
   ],
   "source": [
    "import pandas as pd\n",
    "import numpy as np\n",
    "import pickle\n",
    "import matplotlib.pyplot as plt\n",
    "import tensorflow as tf\n",
    "import seaborn as sns\n",
    "from sklearn.model_selection import train_test_split\n",
    "from sklearn.preprocessing import StandardScaler\n",
    "from sklearn.metrics import confusion_matrix\n",
    "from keras.models import Model, load_model, Sequential\n",
    "from keras.layers import Input, Dense\n",
    "from keras.callbacks import ModelCheckpoint, TensorBoard"
   ]
  },
  {
   "cell_type": "code",
   "execution_count": null,
   "id": "d351f01e",
   "metadata": {},
   "outputs": [],
   "source": [
    "%matplotlib inline\n",
    "sns.set(style='whitegrid')"
   ]
  },
  {
   "cell_type": "code",
   "execution_count": null,
   "id": "26e208b6",
   "metadata": {},
   "outputs": [],
   "source": [
    "df = pd.read_csv(\"creditcard.csv\")"
   ]
  },
  {
   "cell_type": "code",
   "execution_count": null,
   "id": "a7d7f28f",
   "metadata": {},
   "outputs": [],
   "source": [
    "df = df.drop(['Time'], axis=1)"
   ]
  },
  {
   "cell_type": "code",
   "execution_count": null,
   "id": "5fb724e6",
   "metadata": {},
   "outputs": [],
   "source": [
    "df['Amount'] = StandardScaler().fit_transform(df['Amount'].values.reshape(-1, 1))"
   ]
  },
  {
   "cell_type": "code",
   "execution_count": null,
   "id": "8b9fa0cb",
   "metadata": {},
   "outputs": [],
   "source": [
    "df_fraud = df[df['Class']==1]\n",
    "df_normal = df[df['Class']==0]\n",
    "df_normal = df_normal.sample(frac=1.0).reset_index(drop = True)\n",
    "df_normal_1 = df_normal.iloc[:int(df_normal.shape[0]*0.8),:]\n",
    "df_normal_2 = df_normal.iloc[int(df_normal.shape[0]*0.8):,:]"
   ]
  },
  {
   "cell_type": "code",
   "execution_count": null,
   "id": "e7bbfcce",
   "metadata": {},
   "outputs": [],
   "source": [
    "X_test = pd.concat([df_fraud,df_normal_2], axis = 0)\n",
    "X_test = X_test.sample(frac = 1.0).reset_index(drop = True)\n",
    "\n",
    "X_train = df_normal_1[df_normal_1['Class'] == 0]\n",
    "X_train = X_train.drop(['Class'], axis=1)\n",
    "\n",
    "y_test = X_test['Class']\n",
    "X_test = X_test.drop(['Class'], axis=1)"
   ]
  },
  {
   "cell_type": "code",
   "execution_count": null,
   "id": "0f22ee7b",
   "metadata": {},
   "outputs": [],
   "source": [
    "input_dim = X_train.shape[1]\n",
    "encoding_dim = 14\n",
    "\n",
    "model = Sequential()\n",
    "model.add(Dense(29,input_dim = input_dim, activation=\"relu\"))\n",
    "model.add(Dense(14, activation=\"relu\"))\n",
    "model.add(Dense(7, activation=\"relu\"))\n",
    "model.add(Dense(14, activation=\"relu\"))\n",
    "model.add(Dense(input_dim, activation=\"sigmoid\"))\n",
    "model.compile(optimizer='adam', loss='mean_squared_error', metrics=['accuracy'])"
   ]
  },
  {
   "cell_type": "code",
   "execution_count": null,
   "id": "04e2ab42",
   "metadata": {},
   "outputs": [],
   "source": [
    "model.summary()"
   ]
  },
  {
   "cell_type": "code",
   "execution_count": null,
   "id": "9639a803",
   "metadata": {},
   "outputs": [],
   "source": [
    "checkpointer = ModelCheckpoint(filepath=\"nae.h5\", verbose=0, save_best_only=True)"
   ]
  },
  {
   "cell_type": "code",
   "execution_count": null,
   "id": "fb982022",
   "metadata": {},
   "outputs": [],
   "source": [
    "history = model.fit(X_train, X_train,\n",
    "epochs = 10,\n",
    "batch_size=32,                    \n",
    "shuffle=True,\n",
    "validation_data=(X_test, X_test),\n",
    "verbose=1,\n",
    "callbacks=[checkpointer]).history\n",
    "\n",
    "autoencoder = load_model('nae.h5')\n",
    "            "
   ]
  },
  {
   "cell_type": "code",
   "execution_count": null,
   "id": "f8a81e97",
   "metadata": {},
   "outputs": [],
   "source": [
    "plt.plot(history['loss'])\n",
    "plt.plot(history['val_loss'])\n",
    "plt.title('model loss')\n",
    "plt.ylabel('loss')\n",
    "plt.xlabel('epoch')"
   ]
  },
  {
   "cell_type": "code",
   "execution_count": null,
   "id": "2cb3f63b",
   "metadata": {},
   "outputs": [],
   "source": [
    "predictions = model.predict(X_test)\n",
    "\n",
    "mse = np.mean(np.power(X_test - predictions, 2), axis=1)\n",
    "error_df = pd.DataFrame({'mse': mse, 'fraud': y_test})"
   ]
  },
  {
   "cell_type": "code",
   "execution_count": null,
   "id": "05fe0f3d",
   "metadata": {},
   "outputs": [],
   "source": [
    "threshold = 4.5\n",
    "error_df['pred_01'] = [1 if e > threshold else 0 for e in error_df['mse'].values]\n",
    "conf_mat = confusion_matrix(error_df['fraud'], error_df['pred_01'])"
   ]
  },
  {
   "cell_type": "code",
   "execution_count": null,
   "id": "5313cb17",
   "metadata": {},
   "outputs": [],
   "source": [
    "ax=plt.subplot()\n",
    "sns.heatmap(conf_mat, annot=True, fmt=\"g\", cmap=\"YlGnBu\")\n",
    "\n",
    "ax.set_xlabel('Predicted labels');ax.set_ylabel('True labels');\n",
    "ax.set_title('Confusion Matrix');\n",
    "ax.set_ylim([0,2])\n",
    "ax.xaxis.set_ticklabels([\"Normal\", \"Fraud\"]); ax.yaxis.set_ticklabels([\"Normal\", \"Fraud\"])"
   ]
  },
  {
   "cell_type": "code",
   "execution_count": null,
   "id": "c79089f0",
   "metadata": {},
   "outputs": [],
   "source": []
  },
  {
   "cell_type": "code",
   "execution_count": null,
   "id": "c5c42d7e",
   "metadata": {},
   "outputs": [],
   "source": []
  },
  {
   "cell_type": "code",
   "execution_count": null,
   "id": "644894fd",
   "metadata": {},
   "outputs": [],
   "source": []
  }
 ],
 "metadata": {
  "kernelspec": {
   "display_name": "Python 3 (ipykernel)",
   "language": "python",
   "name": "python3"
  },
  "language_info": {
   "codemirror_mode": {
    "name": "ipython",
    "version": 3
   },
   "file_extension": ".py",
   "mimetype": "text/x-python",
   "name": "python",
   "nbconvert_exporter": "python",
   "pygments_lexer": "ipython3",
   "version": "3.9.12"
  }
 },
 "nbformat": 4,
 "nbformat_minor": 5
}
